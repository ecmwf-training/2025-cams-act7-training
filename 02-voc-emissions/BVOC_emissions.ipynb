{
 "cells": [
  {
   "cell_type": "markdown",
   "id": "5b9d8ba4-d171-46b4-8c20-d54788eb718a",
   "metadata": {},
   "source": [
    "# Visualizing emission datasets in Python"
   ]
  },
  {
   "cell_type": "markdown",
   "id": "6ccf3ace-c560-4411-801c-ef2fe4c1d554",
   "metadata": {},
   "source": [
    "The goal of this Notebook is to download VOC emission datasets online, and compare those by plotting them. We will focus on datasets from the EU SEEDS project (https://www.seedsproject.eu/) and on datasets available at the ECCAD data portal (https://eccad.aeris-data.fr/). Firstly, we will start by plotting biogenic VOC emission datasets, focussing on isoprene."
   ]
  },
  {
   "cell_type": "markdown",
   "id": "130b0e80-9328-4826-b578-878e603735b2",
   "metadata": {},
   "source": [
    "## Initial setup"
   ]
  },
  {
   "cell_type": "markdown",
   "id": "58a8a018-de0d-4b07-8736-86cc37ec40ab",
   "metadata": {},
   "source": [
    "To start, we will install and import some libraries that we will need throughout this Notebook."
   ]
  },
  {
   "cell_type": "code",
   "execution_count": null,
   "id": "5e503bda-0cd0-4db5-a38b-98e0e8674e83",
   "metadata": {},
   "outputs": [],
   "source": [
    "!pip install cartopy xarray[complete] zarr==2.18.3 numcodecs==0.15.1"
   ]
  },
  {
   "cell_type": "code",
   "execution_count": null,
   "id": "adaeddb3-f4e6-4448-8044-9bf0aaff1cfa",
   "metadata": {},
   "outputs": [],
   "source": [
    "# Core scientific stack\n",
    "import numpy as np\n",
    "import xarray as xr\n",
    "import matplotlib as mpl\n",
    "import matplotlib.pyplot as plt\n",
    "\n",
    "# Mapping\n",
    "import cartopy.crs as ccrs\n",
    "import cartopy.feature as cfeature\n",
    "\n",
    "# Utilities\n",
    "from mpl_toolkits.axes_grid1 import make_axes_locatable\n",
    "import fsspec  # for cloud data access\n",
    "import netCDF4  # netCDF support\n",
    "\n",
    "# increases the standard font size in figures\n",
    "plt.rcParams.update({'font.size': 18})"
   ]
  },
  {
   "cell_type": "markdown",
   "id": "ef78fe9d-53e2-4200-984f-fe8066b17766",
   "metadata": {},
   "source": [
    "## Download SEEDS data"
   ]
  },
  {
   "cell_type": "markdown",
   "id": "415bac0a-32c7-414a-837b-355e9921e1c2",
   "metadata": {},
   "source": [
    "Next, we will download SEEDS datasets from the seedsproject.eu website. The data portal provides some information on how to download the data in Python. The data format is .zarr, hence we need to use the xarray library which includes a wrapper for .zarr files. Using the url provided on the website, we can access the top-down isoprene emission dataset of SEEDS."
   ]
  },
  {
   "cell_type": "code",
   "execution_count": null,
   "id": "24a534fb-a09b-4160-8a0b-14a3c1ad3202",
   "metadata": {},
   "outputs": [],
   "source": [
    "# Open remote dataset\n",
    "url = \"https://data.seedsproject.eu/seeds_top-down-isoprene-emissions_bira-iasb_20180101-20221231_magritte_v2/slices.zarr\"\n",
    "store = fsspec.get_mapper(url)\n",
    "ds = xr.open_zarr(store = store)\n",
    "ds"
   ]
  },
  {
   "cell_type": "markdown",
   "id": "176cdeb8-285a-4327-95e5-789dc4034543",
   "metadata": {},
   "source": [
    "The dataset contains latitude, longitude, and time coordinates, as well as the isoprene flux. We can store specific chunks of data in netCDF format to store locally."
   ]
  },
  {
   "cell_type": "code",
   "execution_count": null,
   "id": "15a9d26c-5432-45b1-a0c1-3724efc0351c",
   "metadata": {},
   "outputs": [],
   "source": [
    "CONFIG = {\n",
    "    \"data_dir\": \"\",\n",
    "    \"time_range\": slice(\"2019-01-01\", \"2019-12-31\"),\n",
    "    \"lat_bounds\": slice(40, 45),\n",
    "    \"lon_bounds\": slice(0, 5),\n",
    "}"
   ]
  },
  {
   "cell_type": "code",
   "execution_count": null,
   "id": "1d5a68c8-f888-4c68-bd6f-01651e024565",
   "metadata": {},
   "outputs": [],
   "source": [
    "#Subset a time range, save as NetCDF\n",
    "time_subset = ds.isoprene_flux.sel(time=CONFIG[\"time_range\"])\n",
    "time_subset.to_netcdf(CONFIG[\"data_dir\"]+'isoprene_flux_time_subset.nc')\n",
    "\n",
    "#Subset a time and geographical range, save as NetCDF\n",
    "time_geo_subset = ds.isoprene_flux.sel(time=CONFIG[\"time_range\"], latitude=CONFIG[\"lat_bounds\"], longitude=CONFIG[\"lon_bounds\"])\n",
    "time_geo_subset.to_netcdf(CONFIG[\"data_dir\"]+'isoprene_flux_time_geo_subset.nc')\n"
   ]
  },
  {
   "cell_type": "markdown",
   "id": "aba13717-c2c8-468f-81c7-6f6be46a6632",
   "metadata": {},
   "source": [
    "Let's open the dataset and look at its contents."
   ]
  },
  {
   "cell_type": "code",
   "execution_count": null,
   "id": "65d0ecee-9c97-4e17-8300-af2462da8cc5",
   "metadata": {},
   "outputs": [],
   "source": [
    "nc = netCDF4.Dataset(CONFIG[\"data_dir\"]+'isoprene_flux_time_geo_subset.nc','r')\n",
    "nc"
   ]
  },
  {
   "cell_type": "code",
   "execution_count": null,
   "id": "c32c214f-ef4d-4294-acf8-2541d15aa7d6",
   "metadata": {},
   "outputs": [],
   "source": [
    "nc = netCDF4.Dataset(CONFIG[\"data_dir\"]+'isoprene_flux_time_subset.nc','r')\n",
    "nc.variables['isoprene_flux']"
   ]
  },
  {
   "cell_type": "markdown",
   "id": "fc3c8b9c-0612-433b-a034-5f5dc0fe3fe4",
   "metadata": {},
   "source": [
    "## Plot SEEDS data"
   ]
  },
  {
   "cell_type": "markdown",
   "id": "8fe8b013-84e6-49a8-85c1-484c6fc3f0a3",
   "metadata": {},
   "source": [
    "The isoprene flux dataset contains daily emissions over the European domain, in units of 1e10 molec. cm-2 s-1. Let's plot this dataset on a map."
   ]
  },
  {
   "cell_type": "code",
   "execution_count": null,
   "id": "a499fa79-dce2-4719-a529-c5fe6984f9e6",
   "metadata": {},
   "outputs": [],
   "source": [
    "lat_seeds = nc.variables['latitude'][:]\n",
    "lon_seeds = nc.variables['longitude'][:]\n",
    "time = nc.variables['time'][:]\n",
    "flux_seeds = nc.variables['isoprene_flux'][:,:,:]"
   ]
  },
  {
   "cell_type": "markdown",
   "id": "4f79142e-998a-41e2-a9d7-17b0c960ed09",
   "metadata": {},
   "source": [
    "Define the plot routine"
   ]
  },
  {
   "cell_type": "code",
   "execution_count": 4,
   "id": "00c3bb7e-724a-43e2-a405-b906476aaa83",
   "metadata": {},
   "outputs": [],
   "source": [
    "def plotmap_cartopy(lonplot, latplot, borders, plotdata, label, colormap, vmin, vmax, steps, lognorm):\n",
    "    # This function plots a dataset with longitude and latitude coordinates\n",
    "    # onto a cartopy map. It takes arguments for the figure label, colormap,\n",
    "    # minimum and maximum values of the colorbar, and whether to plot the colorbar\n",
    "    # logarithmically or not.\n",
    "    \n",
    "    fig, ax = plt.subplots(1, 1, figsize=(10,10),\n",
    "                    subplot_kw={'projection': ccrs.PlateCarree()})\n",
    "\n",
    "    ax.set_extent(borders, crs=ccrs.PlateCarree())\n",
    "    ax.coastlines()\n",
    "    gls = ax.gridlines(draw_labels = True)\n",
    "    gls.top_labels = False\n",
    "    gls.right_labels = False\n",
    "    ax.add_feature(cfeature.BORDERS)\n",
    "\n",
    "    # Use turbo color map and shave off the edges a bit\n",
    "    cmap = plt.get_cmap(colormap)\n",
    "    if colormap == 'turbo':\n",
    "        lb = 0.1\n",
    "    else:\n",
    "        lb = 0\n",
    "    cmap = cmap(np.linspace(lb,1,steps))\n",
    "    cmap = mpl.colors.ListedColormap(cmap)\n",
    "\n",
    "    # plot the data\n",
    "    lonplotmap, latplotmap = np.meshgrid(lonplot, latplot)\n",
    "    if lognorm:\n",
    "        h = ax.pcolormesh(lonplotmap,latplotmap,plotdata,cmap = cmap, transform=ccrs.PlateCarree(), norm=mpl.colors.LogNorm(vmin=vmin, vmax=vmax))\n",
    "    else:\n",
    "        h = ax.pcolormesh(lonplotmap,latplotmap,plotdata,cmap = cmap, transform=ccrs.PlateCarree(), vmin=vmin, vmax=vmax)\n",
    "\n",
    "    # plot the colorbar\n",
    "    divider = make_axes_locatable(ax)\n",
    "    ax_cb = divider.new_horizontal(size=\"3%\", pad=0.1, axes_class=plt.Axes)\n",
    "    cbar = plt.colorbar(h, label=label, cax=ax_cb, orientation ='vertical')\n",
    "    if lognorm:\n",
    "        if vmax == 10:\n",
    "            ax_cb.set_yticks([0.1,1,10], ['0.1','1','10'], minor = False)\n",
    "        else:\n",
    "            ax_cb.set_yticks([1,10,100], ['1','10','100'], minor = False)\n",
    "    fig.add_axes(ax_cb)"
   ]
  },
  {
   "cell_type": "code",
   "execution_count": null,
   "id": "c8974eaf-9742-452d-8359-28ddda90c819",
   "metadata": {},
   "outputs": [],
   "source": [
    "# take the average over the time dimension of the isoprene data \n",
    "flux_seeds_av = np.nanmean(flux_seeds, axis = 0)\n",
    "\n",
    "vmin = 1 # lower edge of colorbar\n",
    "vmax = 100 # Upper edge of colorbar\n",
    "steps = 20 # number of steps in colorbar\n",
    "lognorm = True # logarithmic colorbar\n",
    "colormap = 'turbo' # colorbar\n",
    "borders = [lon_seeds[0], lon_seeds[-1], lat_seeds[-1], lat_seeds[0]] # edges of the plotdomain\n",
    "figlabel = 'Isoprene emissions \\n 1e10 molec. cm-2 s-1'\n",
    "\n",
    "# this function plots the map\n",
    "plotmap_cartopy(lon_seeds, lat_seeds, borders, flux_seeds_av, figlabel, colormap, vmin, vmax, steps, lognorm)"
   ]
  },
  {
   "cell_type": "markdown",
   "id": "6dcaa848-177e-40a0-b547-089a781b848c",
   "metadata": {},
   "source": [
    "## Download CAMS data"
   ]
  },
  {
   "cell_type": "markdown",
   "id": "cc4c6ba6-7e71-41c5-a925-1b217f9f9773",
   "metadata": {},
   "source": [
    "At this point we have downloaded and plotted the top-down isoprene emission dataset of the SEEDS project. As a next step, it would be interesting to see how this compares to bottom emissions from CAMS. Biogenic VOC emissions are available from the CAMS-GLOB-BIO dataset. The latest published version of this dataset is v3.1 (Sindelarova et al. 2022) and can be accessed through the ECCAD data portal (https://eccad.aeris-data.fr/). After logging in, go to data download and get the CAMS --> CAMS-GLOB-BIO --> v3.1 --> isoprene dataset. Obtain a download url for the zip file and extract it here:"
   ]
  },
  {
   "cell_type": "code",
   "execution_count": null,
   "id": "6a4dd573-e8ca-4b5f-b294-c21d8ac277e1",
   "metadata": {},
   "outputs": [],
   "source": [
    "import requests, zipfile, io\n",
    "\n",
    "# Once download url is obtained, insert it below\n",
    "zip_file_url = 'https://api.sedoo.fr/eccad-download-rest/public/links/##########'\n",
    "\n",
    "r = requests.get(zip_file_url)\n",
    "z = zipfile.ZipFile(io.BytesIO(r.content))\n",
    "z.extractall(CONFIG[\"data_dir\"])"
   ]
  },
  {
   "cell_type": "markdown",
   "id": "9131623b-2adb-4a7e-8b18-fd14baf8e666",
   "metadata": {},
   "source": [
    "Now, the netCDF dataset has been downloaded and extracted to your target folder. Lets check its contents."
   ]
  },
  {
   "cell_type": "code",
   "execution_count": null,
   "id": "42fdee3f-9af4-4414-ba17-79e35c9b8961",
   "metadata": {},
   "outputs": [],
   "source": [
    "nc = netCDF4.Dataset('CAMS-GLOB-BIO_Glb_0.25x0.25_bio_isoprene_v3.1_monthly/CAMS-GLOB-BIO_Glb_0.25x0.25_bio_isoprene_v3.1_monthly_2019.nc','r')\n",
    "print(nc)\n",
    "print(nc.variables['emiss_bio'])"
   ]
  },
  {
   "cell_type": "markdown",
   "id": "8c87f387-d7ab-473e-b32c-31d8bd6a70d4",
   "metadata": {},
   "source": [
    "The dataset is comprised of monthly averaged isoprene emissions, so there are 12 time values in each yearly file. To get a single month (e.g. June), we only select part of the data array with index 5. Additionally, the units are 'kg m-2 s-1', so we need to convert to 'molec. cm-2 s-1'."
   ]
  },
  {
   "cell_type": "code",
   "execution_count": null,
   "id": "ccd40c6f-fcff-4de2-9e70-571167d14f48",
   "metadata": {},
   "outputs": [],
   "source": [
    "lat_cams = nc.variables['lat'][:]\n",
    "lon_cams = nc.variables['lon'][:]\n",
    "flux_cams = nc.variables['emiss_bio']\n",
    "\n",
    "molec_weight = 68.0 # molecular weight of isoprene (g/mol)\n",
    "Nav = 6.022e23 # molecules per mole\n",
    "unit_conversion = (1e3*Nav)/(1e4*1e10*molec_weight)\n",
    "\n",
    "flux_cams_mon = unit_conversion*flux_cams[5,:,:]"
   ]
  },
  {
   "cell_type": "markdown",
   "id": "ba31af2c-0799-4edb-a630-6731f84d2155",
   "metadata": {},
   "source": [
    "Plot this dataset in the same way as we plotted the SEEDS dataset before."
   ]
  },
  {
   "cell_type": "markdown",
   "id": "00edd8b4-6a10-46e8-8f9c-0f1413752f06",
   "metadata": {},
   "source": [
    "## Plot CAMS data"
   ]
  },
  {
   "cell_type": "code",
   "execution_count": null,
   "id": "3c77d783-376e-4127-8624-d6788130e5f2",
   "metadata": {},
   "outputs": [],
   "source": [
    "plotmap_cartopy(lon_cams, lat_cams, borders, flux_cams_mon, figlabel, colormap, vmin, vmax, steps, lognorm)"
   ]
  },
  {
   "cell_type": "markdown",
   "id": "b11ea04f-9807-4303-8612-1c5ba79d979d",
   "metadata": {},
   "source": [
    "It is clear from a visual expection that the emissions of CAMS-GLOB-BIO are much lower in June 2019 compared to the top-down SEEDS emissions. To quantify the discrepancy, we can calculate the total emissions over a specific domain and compare this in a time series. Let's take the emissions over the Iberian peninsula in the range 35 to 45 degrees north, 0 to 10 degrees west."
   ]
  },
  {
   "cell_type": "code",
   "execution_count": null,
   "id": "ec563a2b-0bdf-496b-8124-22d319ea4002",
   "metadata": {},
   "outputs": [],
   "source": [
    "###### CAMS-GLOB-BIO ######\n",
    "# indices of lats and lons in Iberian box\n",
    "ilats = np.argwhere((35<=lat_cams)&(45>lat_cams)).flatten()\n",
    "ilons = np.argwhere((-10<=lon_cams)&(0>lon_cams)).flatten()\n",
    "\n",
    "\n",
    "# It is more interesting to derive the monthly total emissions in units of Tg per month over the domain. \n",
    "# To do this, we need to multiply each gridcell with its surface area and with seconds per month.\n",
    "# flux_cams is in kg m-2 s-1, so use the appropriate units.\n",
    "Rearth2 = 6.371e6**2 # cm2\n",
    "deg_to_rad = 3.14159/180.\n",
    "ndaymon = np.array([31,28,31,30,31,30,31,31,30,31,30,31])\n",
    "secday = 3600*24\n",
    "constant = 1e-9 # to go from kg to Tg\n",
    "\n",
    "surface_area_cams = np.empty((len(lat_cams), len(lon_cams)))\n",
    "delta_lon = np.abs(lon_cams[1]-lon_cams[0])\n",
    "delta_lat = np.abs(lat_cams[1]-lat_cams[0])\n",
    "for ilat in range(len(lat_cams)):\n",
    "    area = Rearth2*(np.sin((lat_cams[ilat]+delta_lat*0.5)*deg_to_rad)-np.sin((lat_cams[ilat]-delta_lat*0.5)*deg_to_rad))*delta_lon*deg_to_rad\n",
    "    for ilon in range(len(lon_cams)):\n",
    "        surface_area_cams[ilat,ilon] = area\n",
    "\n",
    "\n",
    "# now we can calculate the total fluxes\n",
    "flux_cams = flux_cams[:,:,:]\n",
    "\n",
    "total_flux_cams = secday * ndaymon * constant * np.nansum(flux_cams[np.ix_(np.arange(flux_cams.shape[0]),ilats,ilons)]*surface_area_cams[np.ix_(ilats,ilons)],axis = (1,2))\n",
    "\n",
    "###### SEEDS #####\n",
    "# do the same for the SEEDS coordinate system\n",
    "# flux_seeds is in 1e10 molec. cm-2 s-1, so adapt the units and constants\n",
    "Rearth2 = 6.371e8**2 # cm2\n",
    "constant = molec_weight*1e10*1e-12/Nav\n",
    "\n",
    "\n",
    "ilats = np.argwhere((35<=lat_seeds)&(45>lat_seeds)).flatten()\n",
    "ilons = np.argwhere((-10<=lon_seeds)&(0>lon_seeds)).flatten()\n",
    "\n",
    "surface_area_seeds = np.empty((len(lat_seeds), len(lon_seeds)))\n",
    "delta_lon = np.abs(lon_seeds[1]-lon_seeds[0])\n",
    "delta_lat = np.abs(lat_seeds[1]-lat_seeds[0])\n",
    "for ilat in range(len(lat_seeds)):\n",
    "    area = Rearth2*(np.sin((lat_seeds[ilat]+delta_lat*0.5)*deg_to_rad)-np.sin((lat_seeds[ilat]-delta_lat*0.5)*deg_to_rad))*delta_lon*deg_to_rad\n",
    "    for ilon in range(len(lon_seeds)):\n",
    "        surface_area_seeds[ilat,ilon] = area\n",
    "\n",
    "\n",
    "# We need to average the total flux per month as well\n",
    "total_flux_seeds = np.empty(12)\n",
    "day_in_year = 0\n",
    "for im in range(len(ndaymon)):\n",
    "    total_flux_seeds[im] = secday * constant * np.nansum(np.tensordot(flux_seeds[day_in_year:day_in_year+ndaymon[im],ilats, ilons],surface_area_seeds[ilats, ilons], axes = 0))\n",
    "    day_in_year = day_in_year + ndaymon[im]\n"
   ]
  },
  {
   "cell_type": "markdown",
   "id": "bd4d5813-86fb-4c92-bc2f-5d3666c058c6",
   "metadata": {},
   "source": [
    "## Plot time series"
   ]
  },
  {
   "cell_type": "markdown",
   "id": "983b0417-2215-4c1f-9971-9aabb2703950",
   "metadata": {},
   "source": [
    "Make the plot routine for time series"
   ]
  },
  {
   "cell_type": "code",
   "execution_count": null,
   "id": "995d3941-9ebd-4201-8c58-ddcbafc388c9",
   "metadata": {},
   "outputs": [],
   "source": [
    "def plot_timeseries(xvals, data, datalabels, colorlist, xlabel, ylabel, xticklabels, figname): \n",
    "    # This function allow to plot different datasets onto a time series plot.\n",
    "    # The xvals determines the x-coordinates of the figure, the xticklabels are used\n",
    "    # to substitute the x scale with the month names.\n",
    "\n",
    "    \n",
    "    fig, ax = plt.subplots(1,1,figsize =(len(xvals),8))\n",
    "\n",
    "    Ndatasets = len(datalabels) # number of datasets to plot\n",
    "\n",
    "    for n in range(Ndatasets):\n",
    "        if n == 0:\n",
    "            # first dataset\n",
    "            lns = ax.plot(xvals, data[n,:], color = colorlist[n], marker = 'o', markersize = 16, linestyle ='-', lw = 4, label = datalabels[n])\n",
    "        else:\n",
    "            # other datasets\n",
    "            ln = ax.plot(xvals, data[n,:], color = colorlist[n], marker = 'o', markersize = 16, linestyle ='-', lw = 4, label = datalabels[n])\n",
    "            lns = lns + ln\n",
    "\n",
    "    trans = mpl.transforms.blended_transform_factory(ax.transData, ax.transAxes)\n",
    "\n",
    "    ax.set_xlim(-0.8, xvals[-1]+0.8)\n",
    "    ax.set_ylim(0.,1.1*(np.nanmax(data)))\n",
    "\n",
    "    ax.set_xticks(ticks = xvals, labels = xticklabels)\n",
    "    \n",
    "    ax.tick_params(axis = 'x', which='major', direction = 'in', length = 5, width = 2, top = True)\n",
    "    ax.tick_params(axis = 'y', which='major', direction = 'in', length = 5, width = 2, right = True)\n",
    "\n",
    "    # plot gridlines to separate the months\n",
    "    minor_locator = mpl.ticker.AutoMinorLocator(2)\n",
    "    ax.xaxis.set_minor_locator(minor_locator)\n",
    "    ax.grid(which='minor')\n",
    "    \n",
    "    ax.set_ylabel(ylabel)\n",
    "\n",
    "    labs = [l.get_label() for l in lns]\n",
    "    ax.legend(lns, labs, loc=1,fontsize=24)\n",
    "    \n",
    "    # fig.savefig(figname,dpi=300,format='png',bbox_inches='tight') # to save the figure as png in high resolution\n",
    "    plt.show()\n",
    "    plt.close()\n"
   ]
  },
  {
   "cell_type": "code",
   "execution_count": null,
   "id": "c9b94fe8-800c-437c-8fee-422d7ca5a1ac",
   "metadata": {},
   "outputs": [],
   "source": [
    "# definitions for the time series plot\n",
    "xvals = np.arange(12)\n",
    "data = np.array([total_flux_cams, total_flux_seeds])\n",
    "datalabels = ['CAMS-GLOB-BIOv3.1', 'SEEDS top-down']\n",
    "colorlist = ['C0', 'C1']\n",
    "xlabel = 'Months'\n",
    "ylabel = 'Isoprene emissions (Tg)'\n",
    "xticklabels = ['J', 'F', 'M', 'A', 'M', 'J', 'J', 'A', 'S', 'O', 'N', 'D']\n",
    "figname = 'isoprene_timeseries.png'\n",
    "\n",
    "plot_timeseries(xvals, data, datalabels, colorlist, xlabel, ylabel, xticklabels, figname)"
   ]
  },
  {
   "cell_type": "code",
   "execution_count": null,
   "id": "274cd603-8c61-4c8f-969d-2aa2f84db90f",
   "metadata": {},
   "outputs": [],
   "source": []
  }
 ],
 "metadata": {
  "kernelspec": {
   "display_name": "Python 3 (ipykernel)",
   "language": "python",
   "name": "python3"
  },
  "language_info": {
   "codemirror_mode": {
    "name": "ipython",
    "version": 3
   },
   "file_extension": ".py",
   "mimetype": "text/x-python",
   "name": "python",
   "nbconvert_exporter": "python",
   "pygments_lexer": "ipython3",
   "version": "3.13.5"
  }
 },
 "nbformat": 4,
 "nbformat_minor": 5
}
