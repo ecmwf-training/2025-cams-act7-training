{
 "cells": [
  {
   "cell_type": "markdown",
   "id": "5b9d8ba4-d171-46b4-8c20-d54788eb718a",
   "metadata": {},
   "source": [
    "# Visualizing emission datasets in Python"
   ]
  },
  {
   "cell_type": "markdown",
   "id": "6ccf3ace-c560-4411-801c-ef2fe4c1d554",
   "metadata": {},
   "source": [
    "The goal of this Notebook is to download VOC emission datasets online, and compare those by plotting them. We will focus on datasets from the EU SEEDS project (https://www.seedsproject.eu/) and on datasets available at the Athmosphere Data Store (https://ads.atmosphere.copernicus.eu/). "
   ]
  },
  {
   "cell_type": "markdown",
   "id": "130b0e80-9328-4826-b578-878e603735b2",
   "metadata": {},
   "source": [
    "## Initial setup"
   ]
  },
  {
   "cell_type": "markdown",
   "id": "58a8a018-de0d-4b07-8736-86cc37ec40ab",
   "metadata": {},
   "source": [
    "To start, we will install and import some libraries that we will need throughout this Notebook."
   ]
  },
  {
   "cell_type": "code",
   "execution_count": null,
   "id": "5e503bda-0cd0-4db5-a38b-98e0e8674e83",
   "metadata": {},
   "outputs": [],
   "source": [
    "!pip install cartopy xarray[complete] zarr==2.18.3 numcodecs==0.15.1 cdsapi"
   ]
  },
  {
   "cell_type": "code",
   "execution_count": null,
   "id": "adaeddb3-f4e6-4448-8044-9bf0aaff1cfa",
   "metadata": {},
   "outputs": [],
   "source": [
    "# Core scientific stack\n",
    "import numpy as np\n",
    "import xarray as xr\n",
    "import matplotlib as mpl\n",
    "import matplotlib.pyplot as plt\n",
    "\n",
    "# Mapping\n",
    "import cartopy.crs as ccrs\n",
    "import cartopy.feature as cfeature\n",
    "\n",
    "# Utilities\n",
    "from mpl_toolkits.axes_grid1 import make_axes_locatable\n",
    "import fsspec  # for cloud data access\n",
    "import netCDF4  # netCDF support\n",
    "\n",
    "# increases the standard font size in figures\n",
    "plt.rcParams.update({'font.size': 18})"
   ]
  },
  {
   "cell_type": "markdown",
   "id": "ef78fe9d-53e2-4200-984f-fe8066b17766",
   "metadata": {},
   "source": [
    "## Download SEEDS data"
   ]
  },
  {
   "cell_type": "markdown",
   "id": "415bac0a-32c7-414a-837b-355e9921e1c2",
   "metadata": {},
   "source": [
    "Next, we will download SEEDS datasets from the https://seedsproject.eu website. The data portal provides some information on how to download the data in Python. The data format is .zarr, hence we need to use the xarray library which includes a wrapper for .zarr files. Using the url provided on the website, we can access the top-down biomass burning emission dataset of SEEDS."
   ]
  },
  {
   "cell_type": "code",
   "execution_count": null,
   "id": "24a534fb-a09b-4160-8a0b-14a3c1ad3202",
   "metadata": {},
   "outputs": [],
   "source": [
    "# Open remote dataset\n",
    "url = \"https://data.seedsproject.eu/seeds_biomass-burning-carbon-flux_bira-iasb_20180101-20221231_magritte_v2/slices.zarr\"\n",
    "store = fsspec.get_mapper(url)\n",
    "ds = xr.open_zarr(store = store)\n",
    "ds"
   ]
  },
  {
   "cell_type": "markdown",
   "id": "176cdeb8-285a-4327-95e5-789dc4034543",
   "metadata": {},
   "source": [
    "The dataset contains latitude, longitude, and time coordinates, as well as the isoprene flux. We can store specific chunks of data in netCDF format to store locally."
   ]
  },
  {
   "cell_type": "code",
   "execution_count": null,
   "id": "15a9d26c-5432-45b1-a0c1-3724efc0351c",
   "metadata": {},
   "outputs": [],
   "source": [
    "CONFIG = {\n",
    "    \"data_dir\": \"\",\n",
    "    \"time_range\": slice(\"2021-01-01\", \"2021-12-31\"),\n",
    "    \"lat_bounds\": slice(35, 42),\n",
    "    \"lon_bounds\": slice(20, 27),\n",
    "}"
   ]
  },
  {
   "cell_type": "code",
   "execution_count": null,
   "id": "1d5a68c8-f888-4c68-bd6f-01651e024565",
   "metadata": {},
   "outputs": [],
   "source": [
    "# Subset a time range, save as NetCDF\n",
    "time_subset = ds.pyrogenic_totalc_flux.sel(time=CONFIG[\"time_range\"])\n",
    "time_subset.to_netcdf(CONFIG[\"data_dir\"]+'pyrogenic_totalc_flux_time_subset.nc')\n",
    "\n",
    "# Subset a time and geographical range, save as NetCDF\n",
    "time_geo_subset = ds.pyrogenic_totalc_flux.sel(time=CONFIG[\"time_range\"], latitude=CONFIG[\"lat_bounds\"], longitude=CONFIG[\"lon_bounds\"])\n",
    "time_geo_subset.to_netcdf(CONFIG[\"data_dir\"]+'pyrogenic_totalc_flux_time_geo_subset.nc')\n",
    "\n"
   ]
  },
  {
   "cell_type": "markdown",
   "id": "aba13717-c2c8-468f-81c7-6f6be46a6632",
   "metadata": {},
   "source": [
    "Let's open the dataset and look at its contents."
   ]
  },
  {
   "cell_type": "code",
   "execution_count": null,
   "id": "65d0ecee-9c97-4e17-8300-af2462da8cc5",
   "metadata": {},
   "outputs": [],
   "source": [
    "nc = netCDF4.Dataset(CONFIG[\"data_dir\"]+'pyrogenic_totalc_flux_time_geo_subset.nc','r')\n",
    "nc"
   ]
  },
  {
   "cell_type": "code",
   "execution_count": null,
   "id": "c32c214f-ef4d-4294-acf8-2541d15aa7d6",
   "metadata": {},
   "outputs": [],
   "source": [
    "nc = netCDF4.Dataset(CONFIG[\"data_dir\"]+'pyrogenic_totalc_flux_time_subset.nc','r')\n",
    "nc.variables['pyrogenic_totalc_flux']"
   ]
  },
  {
   "cell_type": "markdown",
   "id": "fc3c8b9c-0612-433b-a034-5f5dc0fe3fe4",
   "metadata": {},
   "source": [
    "## Plot SEEDS data"
   ]
  },
  {
   "cell_type": "markdown",
   "id": "8fe8b013-84e6-49a8-85c1-484c6fc3f0a3",
   "metadata": {},
   "source": [
    "The dataset contains the total carbon flux over Europe due to biomass burning events. Let's plot the total emissions using cartopy."
   ]
  },
  {
   "cell_type": "code",
   "execution_count": null,
   "id": "a499fa79-dce2-4719-a529-c5fe6984f9e6",
   "metadata": {},
   "outputs": [],
   "source": [
    "lat_seeds = nc.variables['latitude'][:]\n",
    "lon_seeds = nc.variables['longitude'][:]\n",
    "time = nc.variables['time'][:]\n",
    "flux_seeds = nc.variables['pyrogenic_totalc_flux'][:,:,:]"
   ]
  },
  {
   "cell_type": "markdown",
   "id": "4f79142e-998a-41e2-a9d7-17b0c960ed09",
   "metadata": {},
   "source": [
    "Define the plot routine"
   ]
  },
  {
   "cell_type": "code",
   "execution_count": null,
   "id": "00c3bb7e-724a-43e2-a405-b906476aaa83",
   "metadata": {},
   "outputs": [],
   "source": [
    "def plotmap_cartopy(lonplot, latplot, borders, plotdata, label, colormap, vmin, vmax, steps, lognorm):\n",
    "    # This function plots a dataset with longitude and latitude coordinates\n",
    "    # onto a cartopy map. It takes arguments for the figure label, colormap,\n",
    "    # minimum and maximum values of the colorbar, and whether to plot the colorbar\n",
    "    # logarithmically or not.\n",
    "    \n",
    "    fig, ax = plt.subplots(1, 1, figsize=(10,10),\n",
    "                    subplot_kw={'projection': ccrs.PlateCarree()})\n",
    "\n",
    "    ax.set_extent(borders, crs=ccrs.PlateCarree())\n",
    "    ax.coastlines()\n",
    "    gls = ax.gridlines(draw_labels = True)\n",
    "    gls.top_labels = False\n",
    "    gls.right_labels = False\n",
    "    ax.add_feature(cfeature.BORDERS)\n",
    "\n",
    "    # define colormap\n",
    "    cmap = plt.get_cmap(colormap)\n",
    "    cmap = cmap(np.linspace(0,1,steps))\n",
    "    cmap = mpl.colors.ListedColormap(cmap)\n",
    "\n",
    "    # plot the data\n",
    "    lonplotmap, latplotmap = np.meshgrid(lonplot, latplot)\n",
    "    if lognorm:\n",
    "        h = ax.pcolormesh(lonplotmap,latplotmap,plotdata,cmap = cmap, transform=ccrs.PlateCarree(), norm=mpl.colors.LogNorm(vmin=vmin, vmax=vmax))\n",
    "    else:\n",
    "        h = ax.pcolormesh(lonplotmap,latplotmap,plotdata,cmap = cmap, transform=ccrs.PlateCarree(), vmin=vmin, vmax=vmax)\n",
    "\n",
    "    # plot the colorbar\n",
    "    divider = make_axes_locatable(ax)\n",
    "    ax_cb = divider.new_horizontal(size=\"3%\", pad=0.1, axes_class=plt.Axes)\n",
    "    cbar = plt.colorbar(h, label=label, cax=ax_cb, orientation ='vertical')\n",
    "    \n",
    "    fig.add_axes(ax_cb)"
   ]
  },
  {
   "cell_type": "code",
   "execution_count": null,
   "id": "c8974eaf-9742-452d-8359-28ddda90c819",
   "metadata": {},
   "outputs": [],
   "source": [
    "# take the average over the time dimension of the total C data \n",
    "flux_seeds_av = np.nanmean(flux_seeds[:,:,:], axis = 0)\n",
    "\n",
    "vmin = np.nanmax(flux_seeds_av)*0.0001 # lower edge of colorbar\n",
    "vmax = np.nanmax(flux_seeds_av) # Upper edge of colorbar\n",
    "steps = 20 # number of steps in colorbar\n",
    "lognorm = True # logarithmic colorbar\n",
    "colormap = 'YlOrRd' # colorbar\n",
    "borders = [lon_seeds[0], lon_seeds[-1], lat_seeds[0], lat_seeds[-1]] # edges of the plotdomain\n",
    "figlabel = 'Biomass burning total C emissions \\n kg C m-2 s-1'\n",
    "\n",
    "# this function plots the map\n",
    "plotmap_cartopy(lon_seeds, lat_seeds, borders, flux_seeds_av, figlabel, colormap, vmin, vmax, steps, lognorm)"
   ]
  },
  {
   "cell_type": "markdown",
   "id": "6dcaa848-177e-40a0-b547-089a781b848c",
   "metadata": {},
   "source": [
    "## Download CAMS data"
   ]
  },
  {
   "cell_type": "markdown",
   "id": "cc4c6ba6-7e71-41c5-a925-1b217f9f9773",
   "metadata": {},
   "source": [
    "As a next step, it would be interesting to see how this compares to bottom emissions inventories. There are many different options available, e.g. GFED4s, QFEDv2.4, Finn, GFAS, ... In this workshop, let's compare with the GFAS inventory of CAMS. It can be accessed through the Atmosphere Data Store (ADS). \n",
    "\n",
    "To set up your ADS API credentials, please login/register on the ADS, then you will see your unique [API key here](https://ads.atmosphere.copernicus.eu/how-to-api).\n",
    "You can add this API key to your current session by replacing ######### in the code cell below with your API key.\n"
   ]
  },
  {
   "cell_type": "code",
   "execution_count": null,
   "id": "6a4dd573-e8ca-4b5f-b294-c21d8ac277e1",
   "metadata": {},
   "outputs": [],
   "source": [
    "import os\n",
    "os.environ['CDSAPI_URL'] = 'https://ads.atmosphere.copernicus.eu/api'\n",
    "os.environ['CDSAPI_KEY'] = '###########################################'"
   ]
  },
  {
   "cell_type": "markdown",
   "id": "7ea2160a-976c-4214-a7e5-80c2be74c60e",
   "metadata": {},
   "source": [
    "Visit the download form for the [GFAS global fire emissions data](https://ads.atmosphere.copernicus.eu/datasets/cams-global-fire-emissions-gfas?tab=overview). View the parameters in the API script in the following cell and select the corresponding options. For each year there will be a netcdf file inside the zip that will be downloaded. The data is available from year 2000 up to 2020.\n",
    "\n",
    "At the end of the download form, select \"Show API request\". This will reveal a block of code, which should be identical to the code cell below."
   ]
  },
  {
   "cell_type": "code",
   "execution_count": null,
   "id": "d6814b3a-5244-411c-a3de-4d62ef97707e",
   "metadata": {},
   "outputs": [],
   "source": [
    "variable = 'wildfires_overall_flux_of_burnt_carbon'\n",
    "year = '2021'"
   ]
  },
  {
   "cell_type": "code",
   "execution_count": null,
   "id": "e1f3ef41-43f3-49ed-9a81-7810c75d0ff5",
   "metadata": {},
   "outputs": [],
   "source": [
    "import cdsapi\n",
    "\n",
    "dataset = \"cams-global-fire-emissions-gfas\"\n",
    "request = {\n",
    "    \"variable\": [\"wildfire_overall_flux_of_burnt_carbon\"],\n",
    "    \"date\": [\"2021-01-01/2021-12-31\"],\n",
    "    \"data_format\": \"netcdf\"\n",
    "}\n",
    "\n",
    "client = cdsapi.Client()\n",
    "client.retrieve(dataset, request).download(f'{CONFIG['data_dir']}{dataset}.nc')"
   ]
  },
  {
   "cell_type": "markdown",
   "id": "9131623b-2adb-4a7e-8b18-fd14baf8e666",
   "metadata": {},
   "source": [
    "Now, the netCDF dataset has been downloaded to your target folder. Lets check its contents."
   ]
  },
  {
   "cell_type": "code",
   "execution_count": null,
   "id": "42fdee3f-9af4-4414-ba17-79e35c9b8961",
   "metadata": {},
   "outputs": [],
   "source": [
    "nc = netCDF4.Dataset('cams-global-fire-emissions-gfas.nc','r')\n",
    "nc"
   ]
  },
  {
   "cell_type": "markdown",
   "id": "8c87f387-d7ab-473e-b32c-31d8bd6a70d4",
   "metadata": {},
   "source": [
    "The dataset also has daily emissions at 0.1x0.1 degrees resolution, similar to SEEDS. However, GFAS is a global emission inventory, hence has a much larger domain."
   ]
  },
  {
   "cell_type": "code",
   "execution_count": null,
   "id": "ccd40c6f-fcff-4de2-9e70-571167d14f48",
   "metadata": {},
   "outputs": [],
   "source": [
    "lat_gfas = nc.variables['latitude'][:]\n",
    "lon_gfas = nc.variables['longitude'][:]\n",
    "flux_gfas = nc.variables['cfire'][:,:,:]"
   ]
  },
  {
   "cell_type": "markdown",
   "id": "00edd8b4-6a10-46e8-8f9c-0f1413752f06",
   "metadata": {},
   "source": [
    "## Plot GFAS data"
   ]
  },
  {
   "cell_type": "markdown",
   "id": "ba31af2c-0799-4edb-a630-6731f84d2155",
   "metadata": {},
   "source": [
    "Plot this dataset in the same way as we plotted the SEEDS dataset before."
   ]
  },
  {
   "cell_type": "code",
   "execution_count": null,
   "id": "3c77d783-376e-4127-8624-d6788130e5f2",
   "metadata": {},
   "outputs": [],
   "source": [
    "# take the average over the time dimension of the total C data \n",
    "flux_gfas_av = np.nanmean(flux_gfas, axis = 0)\n",
    "\n",
    "plotmap_cartopy(lon_gfas, lat_gfas, borders, flux_gfas_av, figlabel, colormap, vmin, vmax, steps, lognorm)"
   ]
  },
  {
   "cell_type": "markdown",
   "id": "b11ea04f-9807-4303-8612-1c5ba79d979d",
   "metadata": {},
   "source": [
    "It is clear from a visual expection that the fire emissions in the two inventories are in agreement in terms of fire locations. The SEEDS inventory appears to have higher agriculatural waste burning emissions than GFAS in areas like Ukraine and Russia, or the border between Romania and Bulgaria. Let's look at a specific fire event of your choice. Change the borders of the domain and the time coordinate to match that of the forest fire."
   ]
  },
  {
   "cell_type": "code",
   "execution_count": null,
   "id": "2aeff5d4-4b75-4de6-8e1f-9d85295cbde2",
   "metadata": {},
   "outputs": [],
   "source": [
    "# e.g. Greece borders\n",
    "borders = [20, 27, 35, 42]\n",
    "\n",
    "# e.g. the month of August\n",
    "nday_mon = np.array([31,28,31,30,31,30,31,31,30,31,30,31])\n",
    "iday0 = np.sum(nday_mon[:7])\n",
    "iday1 = iday0 + 31\n",
    "\n",
    "flux_seeds_av = np.nanmean(flux_seeds[iday0:iday1,:,:], axis = 0)\n",
    "flux_gfas_av = np.nanmean(flux_gfas[iday0:iday1,:,:], axis = 0)\n",
    "\n",
    "plotmap_cartopy(lon_seeds, lat_seeds, borders, flux_seeds_av, figlabel, colormap, vmin, vmax, steps, lognorm)\n",
    "plotmap_cartopy(lon_gfas, lat_gfas, borders, flux_gfas_av, figlabel, colormap, vmin, vmax, steps, lognorm)"
   ]
  },
  {
   "cell_type": "markdown",
   "id": "8079cae5-b029-44d3-8903-5ef538d57f94",
   "metadata": {},
   "source": [
    "The locations of the fires agree very well, which is mainly because GFAS uses the MODIS radiative power dataset, whereas the top-down emissions rely on QFED as a priori information, which also uses MODIS radiative fire. However, in order to get a more quantitative comparison of the two inventories, let's make a time series analysis of the fires and calculate the total carbon emitted."
   ]
  },
  {
   "cell_type": "markdown",
   "id": "bd4d5813-86fb-4c92-bc2f-5d3666c058c6",
   "metadata": {},
   "source": [
    "## Time series comparison"
   ]
  },
  {
   "cell_type": "code",
   "execution_count": null,
   "id": "ec563a2b-0bdf-496b-8124-22d319ea4002",
   "metadata": {},
   "outputs": [],
   "source": [
    "###### GFAS ######\n",
    "# indices of lats and lons of borders\n",
    "ilats = np.argwhere((borders[2]<=lat_gfas)&(borders[3]>lat_gfas)).flatten()\n",
    "ilons = np.argwhere((borders[0]<=lon_gfas)&(borders[1]>lon_gfas)).flatten()\n",
    "\n",
    "\n",
    "# It is more interesting to derive the monthly total emissions in units of Tg per month over the domain. \n",
    "# To do this, we need to multiply each gridcell with its surface area and with seconds per month.\n",
    "# flux_gfas is in kg m-2 s-1, so use the appropriate units.\n",
    "Rearth2 = 6.371e6**2 # m2\n",
    "deg_to_rad = 3.14159/180.\n",
    "nday_mon = np.array([31,28,31,30,31,30,31,31,30,31,30,31])\n",
    "secday = 3600*24\n",
    "constant = 1e-9 # to go from kg to Tg\n",
    "\n",
    "surface_area_gfas = np.empty((len(lat_gfas), len(lon_gfas)))\n",
    "# get the resolution of the grid in delta_lon, delta_lat\n",
    "delta_lon = np.abs(lon_gfas[1]-lon_gfas[0])\n",
    "delta_lat = np.abs(lat_gfas[1]-lat_gfas[0])\n",
    "for ilat in range(len(lat_gfas)):\n",
    "    area = Rearth2*(np.sin((lat_gfas[ilat]+delta_lat*0.5)*deg_to_rad)-np.sin((lat_gfas[ilat]-delta_lat*0.5)*deg_to_rad))*delta_lon*deg_to_rad\n",
    "    for ilon in range(len(lon_gfas)):\n",
    "        surface_area_gfas[ilat,ilon] = area\n",
    "\n",
    "\n",
    "# now we can calculate the total fluxes\n",
    "# take just one month of data\n",
    "flux_gfas_mon = flux_gfas[iday0:iday1,:,:]\n",
    "total_flux_gfas = secday * constant * np.nansum(flux_gfas_mon[np.ix_(np.arange(flux_gfas_mon.shape[0]),ilats,ilons)]*surface_area_gfas[np.ix_(ilats,ilons)],axis = (1,2))\n",
    "\n",
    "###### SEEDS #####\n",
    "# do the same for the SEEDS coordinate system\n",
    "# flux_seeds is in the same units as GFAS\n",
    "ilats = np.argwhere((borders[2]<=lat_seeds)&(borders[3]>lat_seeds)).flatten()\n",
    "ilons = np.argwhere((borders[0]<=lon_seeds)&(borders[1]>lon_seeds)).flatten()\n",
    "\n",
    "surface_area_seeds = np.empty((len(lat_seeds), len(lon_seeds)))\n",
    "delta_lon = np.abs(lon_seeds[1]-lon_seeds[0])\n",
    "delta_lat = np.abs(lat_seeds[1]-lat_seeds[0])\n",
    "for ilat in range(len(lat_seeds)):\n",
    "    area = Rearth2*(np.sin((lat_seeds[ilat]+delta_lat*0.5)*deg_to_rad)-np.sin((lat_seeds[ilat]-delta_lat*0.5)*deg_to_rad))*delta_lon*deg_to_rad\n",
    "    for ilon in range(len(lon_seeds)):\n",
    "        surface_area_seeds[ilat,ilon] = area\n",
    "\n",
    "\n",
    "# now we can calculate the total fluxes\n",
    "# take just one month of data\n",
    "flux_seeds_mon = flux_seeds[iday0:iday1,:,:]\n",
    "\n",
    "total_flux_seeds = secday * constant * np.nansum(flux_seeds_mon[np.ix_(np.arange(flux_seeds_mon.shape[0]),ilats,ilons)]*surface_area_seeds[np.ix_(ilats,ilons)],axis = (1,2))\n"
   ]
  },
  {
   "cell_type": "markdown",
   "id": "983b0417-2215-4c1f-9971-9aabb2703950",
   "metadata": {},
   "source": [
    "Make the plot routine for time series"
   ]
  },
  {
   "cell_type": "code",
   "execution_count": null,
   "id": "995d3941-9ebd-4201-8c58-ddcbafc388c9",
   "metadata": {},
   "outputs": [],
   "source": [
    "def plot_timeseries(xvals, data, datalabels, colorlist, xlabel, ylabel, xticklabels, figname): \n",
    "    # This function allow to plot different datasets onto a time series plot.\n",
    "    # The xvals determines the x-coordinates of the figure, the xticklabels (if any) can be used\n",
    "    # to substitute the x scale with the month names.\n",
    "\n",
    "    \n",
    "    fig, ax = plt.subplots(1,1,figsize =(len(xvals),8))\n",
    "\n",
    "    Ndatasets = len(datalabels) # number of datasets to plot\n",
    "\n",
    "    for n in range(Ndatasets):\n",
    "        if n == 0:\n",
    "            # first dataset\n",
    "            lns = ax.plot(xvals, data[n,:], color = colorlist[n], marker = 'o', markersize = 16, linestyle ='-', lw = 4, label = datalabels[n])\n",
    "        else:\n",
    "            # other datasets\n",
    "            ln = ax.plot(xvals, data[n,:], color = colorlist[n], marker = 'o', markersize = 16, linestyle ='-', lw = 4, label = datalabels[n])\n",
    "            lns = lns + ln\n",
    "\n",
    "    trans = mpl.transforms.blended_transform_factory(ax.transData, ax.transAxes)\n",
    "\n",
    "    ax.set_xlim(-0.8, xvals[-1]+0.8)\n",
    "    ax.set_ylim(0.,1.1*(np.nanmax(data)))\n",
    "\n",
    "    # make xticklabels for the plot, for example to put months or other dates\n",
    "    if xticklabels is not None:\n",
    "        ax.set_xticks(ticks = xvals, labels = xticklabels)\n",
    "    \n",
    "    ax.tick_params(axis = 'x', which='major', direction = 'in', length = 5, width = 2, top = True)\n",
    "    ax.tick_params(axis = 'y', which='major', direction = 'in', length = 5, width = 2, right = True)\n",
    "\n",
    "    # plot gridlines to separate the months\n",
    "    minor_locator = mpl.ticker.AutoMinorLocator(2)\n",
    "    ax.xaxis.set_minor_locator(minor_locator)\n",
    "    ax.grid(which='minor')\n",
    "    \n",
    "    ax.set_ylabel(ylabel)\n",
    "\n",
    "    labs = [l.get_label() for l in lns]\n",
    "    ax.legend(lns, labs, loc=1,fontsize=24)\n",
    "    \n",
    "    # fig.savefig(figname,dpi=300,format='png',bbox_inches='tight') # to save the figure as png in high resolution\n",
    "    plt.show()\n",
    "    plt.close()\n"
   ]
  },
  {
   "cell_type": "code",
   "execution_count": null,
   "id": "c9b94fe8-800c-437c-8fee-422d7ca5a1ac",
   "metadata": {},
   "outputs": [],
   "source": [
    "# definitions for the time series plot\n",
    "xvals = np.arange(total_flux_gfas.shape[0])\n",
    "data = np.array([total_flux_gfas, total_flux_seeds])\n",
    "datalabels = ['GFAS', 'SEEDS top-down']\n",
    "colorlist = ['C0', 'C1']\n",
    "xlabel = 'Days'\n",
    "ylabel = 'Total carbon emissions (Tg C)'\n",
    "# xticklabels = ['J', 'F', 'M', 'A', 'M', 'J', 'J', 'A', 'S', 'O', 'N', 'D']\n",
    "xticklabels=None\n",
    "figname = 'figure_name.png'\n",
    "\n",
    "\n",
    "plot_timeseries(xvals, data, datalabels, colorlist, xlabel, ylabel, xticklabels, figname)"
   ]
  },
  {
   "cell_type": "code",
   "execution_count": null,
   "id": "274cd603-8c61-4c8f-969d-2aa2f84db90f",
   "metadata": {},
   "outputs": [],
   "source": []
  }
 ],
 "metadata": {
  "kernelspec": {
   "display_name": "Python 3 (ipykernel)",
   "language": "python",
   "name": "python3"
  },
  "language_info": {
   "codemirror_mode": {
    "name": "ipython",
    "version": 3
   },
   "file_extension": ".py",
   "mimetype": "text/x-python",
   "name": "python",
   "nbconvert_exporter": "python",
   "pygments_lexer": "ipython3",
   "version": "3.13.5"
  }
 },
 "nbformat": 4,
 "nbformat_minor": 5
}
