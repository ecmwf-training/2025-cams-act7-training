{
 "cells": [
  {
   "cell_type": "markdown",
   "id": "e7424fc3-aa1c-444a-bb23-3eef88b5bcbe",
   "metadata": {},
   "source": [
    "# Comparing satellite data with models\n",
    "\n",
    "Henk Eskes (henk.eskes@knmi.nl) <br>\n",
    "September 2024, update September 2025\n"
   ]
  },
  {
   "cell_type": "markdown",
   "id": "d06d12d0-42ef-4efd-9252-c13df9990361",
   "metadata": {},
   "source": [
    "<h2>Comparing models and observations</h2>\n",
    "\n",
    "In this practical we will investigate how a model (for instance a regional air-quality forecasting model) can be compared with satellite observations (retrievals) of atmospheric composition. Atmospheric composition information is provided by several satellite instruments, and can be derived from the UV, visible, near-infrared, short-wave infrared, infrared or microwave parts of the spectrum. Radiance measurements from these instruments are converted into retrieval \"Level-2\" products. These are either reported as profiles (e.g. an ozone profile from the nadir-looking TROPOMI, or from the microwave limb sounder MLS), or, in many case, as a column amount (e.g. for CO, CH4, CO2, NO2, SO2, HCHO, NH3 and several other species), or as optical property (e.g. AOD - Aerosol optical depth). \n",
    "\n",
    "Here we will focus on trace gas observations, columns and profiles.\n"
   ]
  },
  {
   "cell_type": "markdown",
   "id": "6af97e83-a077-4c18-8d4f-d271c3d42cf1",
   "metadata": {},
   "source": [
    "<h3>Models minus observation departures</h3>\n",
    "\n",
    "The difference between a measurement and the model-simulation of the measurement is a key quantity in data assimilation and validation, and is often called the <b>departure</b>:\n",
    "\n",
    "<div> <img src=\"images/dept.png\" width=\"400\"> </div>\n",
    "\n",
    "Note: This has the unit of the observations, e.g. ppb, µg/m<sup>3</sup>, mol/m<sup>2</sup>.\n",
    "\n",
    "Relative differences do not have a unit and are often easier to understand and interpret for non-specialist ",
    ".<br>\n",
    "These can be expressed as percentage difference (%). ",
    "\n",
    "\n",
    "<div> <img src=\"images/rel_diff.png\" width=\"550\"> </div>\n",
    "\n",
    "A more symmetric form is also possible (useful when some observations become close to, or equal to 0):\n",
    "\n",
    "<div> <img src=\"images/rel_diff_sym.png\" width=\"450\"> </div>\n",
    "\n",
    "In the CAMS validation reports most results are expressed in relative units, <br>\n",
    "such as the normalised bias, fractional gross error (a normalised absolute mean difference) or the correlation.\n"
   ]
  },
  {
   "cell_type": "markdown",
   "id": "d7a19bbe-fa59-4a57-8780-3ec074e2b04d",
   "metadata": {},
   "source": [
    "Model output is in most cases four dimensional (4D), e.g. 3D fields produced every hour, written as a 4D matrix  \n",
    "\n",
    "<div> <img src=\"images/x4d.png\" width=\"50\"> </div>\n",
    "\n",
    "while the observation <i>y</i> is taken at a given point in space and time. <br>\n",
    "Therefore we need an “observation operator” <i>H</i>, \n",
    "to computing the model equivalent of the observation at the location and time of the observation.<br>\n",
    "The departure becomes:\n",
    "\n",
    "<div> <img src=\"images/Hx_y.png\" width=\"120\"> </div>\n",
    "\n",
    "In it’s simplest form <i>H</i> is an interpolation in time, followed by a three-dimensional interpolation in space\n",
    "\n",
    "<div> <img src=\"images/H_spacetime.png\" width=\"320\"> </div>\n"
   ]
  },
  {
   "cell_type": "markdown",
   "id": "3a321c8c-349f-4f9d-af35-f555777cb963",
   "metadata": {},
   "source": [
    "For atmospheric composition <b>remote sensing</b> (with satellites or with ground instruments) the retrieval product  ",
    "is often a <b>profile</b> provided on a vertical retrieval grid</b>.  <br>\n",
    "For instance, the Sentinel-5P satellite mission (TROPOMI instrument) has an ozone profile product, specified on a number of vertical levels.\n",
    "\n",
    "The 3D interpolation operator can then be written as a successive horizontal lat-lon interpolation followed by a  ",
    "vertical interpolation from the model levels to the retrieval grid:   \n",
    "\n",
    "<div> <img src=\"images/H_4d.png\" width=\"600\"> </div>\n",
    "\n"
   ]
  },
  {
   "cell_type": "markdown",
   "id": "61838c68-950c-49dc-9e85-6aaf0ce99ebe",
   "metadata": {},
   "source": [
    "<h3>Comparing models and remote-sensing retrievals</h3>\n",
    "\n",
    "It seems natural to use the above form of the observation operator (based on space-time interpolations) in comparisons against satellite profiles,  ",
    "but <b>this is not the optimal way</b> to compare model output with remote sensing observations.\n",
    "\n",
    "Why not?\n",
    "\n",
    "1. Remote sensing observations can not retrieve concentrations at one point (vertical level),  ",
    "but rather provide height-integrated averages of concentrations weighted by  ",
    "sensitivity profiles. Comparing with model ozone point values is like comparing ozone apples with ozone pears.\n",
    "\n",
    "2. The number of independent pieces of information in the measurements is often much less  ",
    "that the number of retrieval layers. In this case the retrieval profile shapes are constrained  ",
    "or “smoothed” by  a-priori profile information (e.g. fixed profile shape or climatology),  ",
    "and the comparisons will partly reflect the a-priori input. \n"
   ]
  },
  {
   "cell_type": "markdown",
   "id": "b4556d94-3692-498c-9d72-efba9535c131",
   "metadata": {
    "jp-MarkdownHeadingCollapsed": true
   },
   "source": [
    "<h3> Optimal Estimation Theory </h3>\n",
    "\n",
    "The bible of remote sensing retrieval theory is the book\n",
    "<b>\"Inverse methods for atmospheric sounding\"\n",
    "by Clive Rodgers </b>\n",
    "World Scientific, 2000.\n",
    "\n",
    "The concepts which are introduced briefly below are derived and discussed in detail in this book. \n",
    "It is a must read for people working on (satellite) retrievals.\n",
    "\n",
    "<div> <img src=\"images/Rodgers_book.png\" width=\"200\"> </div>\n"
   ]
  },
  {
   "cell_type": "markdown",
   "id": "4215911c-a8f1-47ab-9277-18f5931af4f7",
   "metadata": {},
   "source": [
    "<h3>Comparing models and remote-sensing retrievals (continued)</h3>\n",
    "\n",
    "Instead of comparing with retrievals (trace gas columns or profiles) we can use the model and observation operator to <b>simulate radiances</b> or reflectances (as function of wavelength) and compare directly with the satellite observations of radiation:\n",
    "\n",
    "<div> <img src=\"images/Fx_r.png\" width=\"320\"> </div>\n",
    "\n",
    "Where <i>F</i> is a forward radiative transfer operator which computes wavelength-dependent  ",
    "radiances given a model trace gas or aerosol vertical profile (and other quantities  ",
    "that determine the radiances).\n",
    "\n",
    "As shortcut we wrote the profile at the satellite location as:\n",
    "\n",
    "<div> <img src=\"images/HIx4d_is_x.png\" width=\"120\"> </div>"
   ]
  },
  {
   "cell_type": "markdown",
   "id": "84b490f4-60af-45d5-96f0-f650031fbe3a",
   "metadata": {},
   "source": [
    "Notes:\n",
    "\n",
    "- A  major advantage of the radiance comparison approach: There is <b>no additional a-priori profile shape dependence</b> in this comparison, only the profile of the model is needed. Retrieval methods generally depend on a pre-defined a-priori profile shape (for instance a climatology). In contrast, a forward radiative transfer model does not.\n",
    "\n",
    "- In numerical weather prediction (e.g. at ECMWF) the assimilation of satellite radiances is common (default) practice, for instance to assimilate satellite temperature profile information.\n",
    "  \n",
    "- In contrast, for the global  ",
    "daily forecasts of trace gases and aerosol, CAMS is mainly assimilating retrieval products such as ozone stratospheric profiles and total columns, CO, NO2 columns, retrieved aerosol optical depth (AOD). (Some experiments are conducted in CAMS to assimilate radiances, for instance to constrain aerosol properties.)\n",
    "\n",
    "- For validation and interpretation the radiance assimilation is not always practical: differences in radiances are not so easily related  ",
    "to errors in trace gas concentrations.  Also: a complex forward model to compute the radiances has to be  ",
    "implemented in the comparison.\n",
    "\n"
   ]
  },
  {
   "cell_type": "markdown",
   "id": "b9cd5b0d-7f7f-4aa3-9765-9d3ea868a920",
   "metadata": {},
   "source": [
    "We have now discussed two options:\n",
    "\n",
    "1. Compare retrieved profiles with a model using a 4D interpolation observation operator.\n",
    "\n",
    "2. Comparing measured satellite radiances with radiances simulated with the model and a radiative transfer model.\n",
    "\n",
    "But there is a third option:\n",
    "\n",
    "Instead of comparing with retrievals products we can also reproduce the retrieval.  ",
    "This means:\n",
    "\n",
    "- first simulate radiances (as function of wavelength) and then <br>\n",
    "- apply the retrieval operator with the a-priori profile and other parameters used for the retrieval.\n",
    "\n",
    "This may sounds very complicated, but it is not, and can be implemented using information provided in the L2 satellite data products, as explained below.\n",
    "\n",
    "The model-observation difference now becomes:\n",
    "\n",
    "<div> <img src=\"images/RF_Rr.png\" width=\"300\"> </div>\n",
    "\n",
    "Where <i>F</i> is a forward radiative transfer operator computing radiances based on the model profile and input parameters. <br>\n",
    "<i>R</i> is the retrieval method which depends on:\n",
    "\n",
    "- The radiances or reflectances <i>r</i> \n",
    "\n",
    "- The a-priori profile <b>x</b><sub><i>a</i></sub>. In this tutorial these are trace gas profiles, for instance ozone or NO<sub>2</sub>.\n",
    "\n",
    "- Other retrieval input parameters <b>b</b>. <br>   ",
    "Examples of “b” are surface albedo, cloud properties, water vapour, temperature profile"
   ]
  },
  {
   "cell_type": "markdown",
   "id": "87686e22-3acc-45e7-93cd-98ea7a6ed334",
   "metadata": {},
   "source": [
    "Forward and retrieval operators are typically non-linear, but can be linearised around the a-priori, ",
    "\n",
    "see e.g. the book of Rodgers (2000):\n",
    "\n",
    "<div> <img src=\"images/FR_lin.png\" width=\"350\"> </div>\n",
    "\n",
    "Where <b>F</b> is a matrix converting from real space to wavelength space, ",
    "\n",
    "and <b>R</b> is the linearised retrieval matrix connecting wavelength space to real space.\n",
    "\n",
    "The model-simulated retrieval \n",
    "\n",
    "<div> <img src=\"images/RF.png\" width=\"500\"> </div>\n",
    "\n",
    "The product of the linearised retrieval method times forward model \n",
    "\n",
    "<div> <img src=\"images/A_RF.png\" width=\"80\"> </div> \n",
    "\n",
    "is the <b>Averaging Kernel</b> of the retrieval (see Rodgers, 2000). \n",
    "\n",
    "Excercise: derive this relation using the formulas above."
   ]
  },
  {
   "cell_type": "markdown",
   "id": "6107e574-0099-4af4-8879-d4a09fcb68ac",
   "metadata": {},
   "source": [
    "The departure now becomes:\n",
    "\n",
    "<div> <img src=\"images/d_Rodgers.png\" width=200\"> </div>\n",
    "\n",
    "where <b>y</b>\n",
    "is the retrieved quantity (for instance an ozone profile, a vector quantity).\n",
    "\n",
    "The averaging kernel and a-priori profile are normally <b>included in the retrieval dataproduct</b>. ",
    "<br>\n",
    "Therefore this method 3 comparison can be  ",
    "done without additional radiative transfer calculations.\n",
    "\n",
    "Note:\n",
    "\n",
    "In the discussion so far the averaging kernel is normally a square matrix, N x N, where N is the number of vertical layers used for the computations.<br>\n",
    "However, this is not needed: the forward model may use a <b>different set</b> of vertical layers  ",
    "than the retrieval method.\n",
    "\n",
    "For an accurate forward modelling of the radiation a sufficient number of layers is needed. Typically 20-40 layers are used.\n",
    "\n",
    "But the number of independent pieces of information derived from the satellite data is often (much) smaller than the number of layers. For instance, the ozone profile retrieval for TROPOMI has about 6 pieces of information on ozone. Therefore the results could be provided for a limited number of layers or subcolumns.\n",
    "\n",
    "The extreme example is the retrieval of total columns (like for TROPOMI NO2), where the retrieval produces  ",
    "just one number instead of a profile. <br>\n",
    "The averaging kernel then becomes a <b>vector</b> ",
    "."
   ]
  },
  {
   "cell_type": "markdown",
   "id": "1c97de3c-9746-4701-bc45-8aa19588120f",
   "metadata": {},
   "source": [
    "Typically remote sensing retrievals are very sensitive to the a-priori profile shape  ",
    "provided to the retrieval. However, the averaging kernel depends in the same way  ",
    "on the a-priori, because it contains the retrieval method. While absolute comparisons  ",
    "still depend on the a-priori, the relative comparison\n",
    "\n",
    "<div> <img src=\"images/rel_diff.png\" width=\"550\"> </div>\n",
    "\n",
    "becomes a-priori independent when the averaging kernel is used in the comparison. Note that this holds for weak absorbers with a linear relation between the absorber and the radiance (such as for NO2 to a good approximation). For strong absorbers the forward model becomes non-linear and has to be linearised around an a-priori starting point. This introduces a (often weak) dependence of the comparison on the linearisation point.  \n",
    "\n",
    "There is also a high-level equivalence between comparisons in radiance space and  ",
    "in profile space. When an optimised profile            reproduces the radiances, eq. (2), ",
    " then the same profile will give a perfect match with the retrieval,  ",
    "independent of the a-priori chosen in the retrieval method.\n",
    "\n",
    "But:\n",
    "\n",
    "- The forward and retrieval operators should be reasonably linear around the a-priori. \n",
    "\n",
    "- The retrieval method should not be too simple and should not loose information.\n",
    "\n",
    "Reference: Stefano Migliorini, \"On the Equivalence between Radiance and Retrieval Assimilation\", MWR 2012."
   ]
  },
  {
   "cell_type": "markdown",
   "id": "c05a3ede-f8c7-405d-995f-14e448ff2688",
   "metadata": {},
   "source": [
    "<h3>Satellite retrievals of columns</h3>\n",
    "\n",
    "Several column products, like TROPOMI SO2, HCHO and NO2 total columns, are derived using the <b>Differential Optical Absorption Spectroscopy</b> method. This two-step approach first compares differential spectral features in the measurement with reference absorption spectra, to derive the amount of absorption along the light path. Secondly, a so-called air-mass factor is derived using radiative transfer calculations to compute the vertical column.\n",
    "\n",
    "The DOAS column retrieval approach has been re-formulated using Rodgers Optimal Estimation formalism (Eskes and Boersma, 2003). \n",
    "This leads naturally to the definition of averaging kernel vectors for total column DOAS retrieved quantities.\n",
    "\n",
    "<div> <img src=\"images/Eskes2003.png\" width=\"600\"> </div>\n",
    "\n",
    "NO2 retrieval example: The DOAS averaging kernel profiles are a measure of the sensitivity of the measurement to \n",
    "NO2 at a given altitude. NO2 is retrieved in the 400-500 nm spectral range, where Raileigh scattering Each retrieval has its own kernel, depending on retrieval parameters like the surface reflectivity, cloud cover, geometry (solar zenith and satellite viewing angles). The image below shows three examples:\n",
    "\n",
    "- When the surface is dark the sensitivity close to the surface (and kernel value) is small.\n",
    "\n",
    "- When the surface is bright (e.g. sand, snow) the sensitivity close to the surface is large.\n",
    "\n",
    "- Clouds obscure the NO2 close to the surface. The satellite has almost no sensitivity below the cloud, but is more sensitive just above the cloud.\n",
    "\n",
    "<div> <img src=\"images/no2_kernel_examples.png\" width=\"400\"> </div>\n",
    "\n",
    "For the weak absorber total column retrieval (e.g. TROPOMI NO2) the formula to compare model with the retrieval simplifies further. For this retrieval \n",
    "\n",
    "<div> <img src=\"images/xa_axa.png\" width=\"150\"> </div>\n",
    "\n",
    "and therefore the (model-observation) departure becomes\n",
    "\n",
    "<div> <img src=\"images/Ax_y.png\" width=\"80\"> </div>\n",
    "or \n",
    "<div> <img src=\"images/AHx_y.png\" width=\"140\"></div> \n",
    "\n",
    "The retrieved column (a single number) is compared with the dot product of the kernel vector and the vector of modelled partial columns for all the vertical layers.\n",
    "\n",
    "Note that the a-priori profile is not needed to compare the retrieval with the model. <br>\n",
    "This is the reason why the a-priori is not provided in the NO2 data product."
   ]
  },
  {
   "cell_type": "markdown",
   "id": "40df33d4-d977-463a-8f7f-24706158f615",
   "metadata": {},
   "source": [
    "<h3>Error sources in the model-satellite comparison</h3>\n",
    "\n",
    "The spread in (model-obs) values is determined by three error terms: <br>\n",
    "- Model (forecast) errors  <br>\n",
    "- Combined observation + retrieval errors <br>\n",
    "- Representativity errors\n",
    "\n",
    "<div> <img src=\"images/error_terms.png\" width=\"500\"> </div>\n",
    "\n",
    "In this formula we assume that the three error terms are uncorrelated.\n",
    "\n",
    "The satellite retrieval provides an error covariance matrix quantifying the retrieval errors. This is a matrix: because of the limited vertical resolution the errors in the retrieved values will be correlated between layers at different altitudes. If the retrieved ozone has a positive error at a certain altitude, say 20 km, then it is likely that the error at 21 km is also positive. This is described by the off-diagonal terms in the retrieval covariance matrix. Layers further apart may be anti-correlated: a positive error at 20 km may on average be related to a negative error at 40 km altitude. \n",
    "\n",
    "Representativity errors are often neglected but are also often the largest term, especially for strongly varying short-lived species!<br>\n",
    "Examples:<br>\n",
    "- Comparing a roadside NO2 / PM monitor with the 10x10 km gridcell of a European air quality model <br>\n",
    "- Difference in satellite footprint and model gridcell (different air masses) <br>\n",
    "- Measurements in mountainous terrain\n",
    "\n",
    "If kernels are not used in the comparison, then a so-called \"smoothing error\" (Rodgers, 2000) has to be added to the error budget to reflect the finite (vertical) resolution of the retrieval."
   ]
  },
  {
   "cell_type": "markdown",
   "id": "456227c0-e0a3-4cf4-ab81-e096fb54300f",
   "metadata": {},
   "source": [
    "<h3>Take-home messages</h3>\n",
    "\n",
    "- Retrievals (profiles, columns) are often strongly dependent on the a-priori used in the retrieval method.\n",
    "\n",
    "- Remote sensing retrievals can be compared with models in two ways: (1) by using only the 4D interpolation form of the observartion operator, or (2) by applying the averaging kernels after the 4D interpolation.\n",
    "\n",
    "- Method (2) is highly recommended. By using the averaging kernels the relative comparison between model and retrieval becomes independent (or only weakly dependent in the non-linear case) on the a-priori assumptions made in the retrieval. In general (model-measurement) differences will be smaller with method 1 because the smoothing error is avoided.\n",
    "\n"
   ]
  },
  {
   "cell_type": "code",
   "execution_count": null,
   "id": "78474be5-d750-41ef-9435-08ed4b7293f2",
   "metadata": {},
   "outputs": [],
   "source": []
  }
 ],
 "metadata": {
  "kernelspec": {
   "display_name": "Python 3 (ipykernel)",
   "language": "python",
   "name": "python3"
  },
  "language_info": {
   "codemirror_mode": {
    "name": "ipython",
    "version": 3
   },
   "file_extension": ".py",
   "mimetype": "text/x-python",
   "name": "python",
   "nbconvert_exporter": "python",
   "pygments_lexer": "ipython3",
   "version": "3.13.2"
  }
 },
 "nbformat": 4,
 "nbformat_minor": 5
}
